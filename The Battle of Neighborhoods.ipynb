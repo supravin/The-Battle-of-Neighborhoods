{
 "cells": [
  {
   "cell_type": "markdown",
   "metadata": {},
   "source": [
    "# Opening a Restaurant in North Carolina\n",
    "Introduction\n",
    "North Carolina's population has grown 32.5% over the past 20 years, and the state is expected to grow by another 100,000 people per year until at least 2038, at which point the state's population will be nearly 13 million [1]. That's a lot of mouths to feed! This is a good opportunity for forward-thinking restaurant owners and aspiring restaurateurs to make a move into markets that are in early development and are projected to grow significantly into the 2030s."
   ]
  },
  {
   "cell_type": "markdown",
   "metadata": {},
   "source": [
    "# Target Audience\n",
    "According to the National Restaurant Association, there are over 19,000 eating and drinking locations in North Carolina, and restaurant and foodservice work accounts for 11% of state employment [2]! But competition is fierce in the restaurant industry, and the median lifespan of a small startup restaurant (less than 5 employees) is only 3.75 years [3]. I am a firm believer in the value and viability of smart small businesses, so my goal with this project is to assist small businesses in identifying potential locations for food and drink establishments.\n",
    "\n",
    "The Challenge: Reading the Market\n",
    "Wayne Gretzky, one of the greatest hockey players in history, is often credited with saying that part of his success was due to the fact that he did not skate to where the puck was but rather to where it was going. If one can predict where the market will swing with some degree of accuracy, then they are more likely to achieve a successful business outcome.\n",
    "\n",
    "But how to predict that in North Carolina? One way to predict market growth is to use housing price data. As demand for real estate increases, home prices will follow suit. We will use average home price growth as a primary indicator of potential markets.\n",
    "\n",
    "Another important factor to consider is competition. Someone may have an outstanding idea for a Mexican food restaurant, but if there is already successful super deluxe burrito and salsa bar in the area of town you are interested in, it might be wise to consider other location possibilities. We will use eatery data from Foursquare to help identify those potential locations.\n",
    "\n",
    "Data\n",
    "Data for this report will be pulled from multiple sources:\n",
    "\n",
    "Housing price data will be sourced from Zillow's publicly available research database, specifically the Zillow Home Value Index (ZHVI).\n",
    "Competition (i.e. currently operating food and drink establishments) data will be sourced from Foursquare.\n",
    "Zip code geolocation coordinate data will be sourced from Open Data Delaware on GitHub.\n",
    "Methodology & Results\n",
    "This project consisted of two main components: identifying the zip codes in North Carolina experiencing large growth in average home value and then mapping food establishments to those zip codes to identify potential locations for restaurants.\n",
    "\n",
    "The methodology can be viewed in detail in the accompanying Jupyter notebook, but I will summarize here as well."
   ]
  },
  {
   "cell_type": "markdown",
   "metadata": {},
   "source": [
    "# Identifying Food Establishments in Target Zip Code Areas\n",
    "Food establishments in the four target zip codes were queried using the Foursquare API and then cleaned and added to a dataframe.\n",
    "\n",
    "I used k-Means clustering to group the restaurants and assign each a color for the Folium map.\n",
    "\n",
    "Screen%20Shot%202020-04-01%20at%2012.48.41%20PM.png\n",
    "Screen%20Shot%202020-04-01%20at%2012.48.50%20PM.png\n",
    "\n",
    "\n",
    "The k-Means clustering was a good example of using human intelligence over the algorithm, because it initially suggested using only three clusters, which returned almost completely meaningless clusters because this project is covering a large geographic area. In the end, I went with 8 clusters and got the following:\n",
    "\n",
    "Screen%20Shot%202020-04-01%20at%2012.49.35%20PM.png\n",
    "\n",
    "\n",
    "This provides a meaningful visual of the competitive landscape in the target zip codes, which I will discuss further in the Discussion and Conclusion section below!\n",
    "\n",
    "Discussion and Conclusion\n",
    "One result that surprised me was that the zip code that has experienced the largest increase in real estate value is also home to the airport. I expected the opposite, primarily because the airport requires so much empty space around it, so there isn't necessarily a lot of room for businesses.\n",
    "\n",
    "A few different areas jumped out as potential spots for restaurants.\n",
    "\n",
    "Southeast Charlotte - 28212\n",
    "Along US74 and Monroe Road, southeast Charlotte has a selection of restaurants, but it is not crowded. There are several well-known chains, which could be appealing to business owners hoping to benefit from larger chains' marketing budgets and opportunistically capitalize on their traffic.\n",
    "\n",
    "Southwest Charlotte - 28217\n",
    "Along South Blvd, the concentration of food establishments thins out considerably as you go south. Worth noting is that the restaurants further south are small, non-chain restaurants. This means there may not be as much traffic as the chain eateries, but it also means the rent will likely be considerably cheaper.\n",
    "\n",
    "North Charlotte - 28216\n",
    "The large, yellow cluster in the very northern part of zip code 28216 is Northlake Mall. I would recommend avoiding that. It is expensive, and malls are not a hot spot. They are generally filled with chain restaurants, and many of the shops are closing.\n",
    "\n",
    "West Charlotte - 28208\n",
    "The major pink cluster in the 28208 zip code is the airport. That's too expensive for a startup. However, the purple points on the map near I85 and Mulberry Church Rd are in an area of low competition and are near airport hotels, which could be a great opportunity to cater to business travelers who are spending a per diem for their food and may, therefore, tend to purchase more.\n",
    "\n",
    "Final Recommendation\n",
    "Ultimately, the West Charlotte (28208) area looks like an area worth investigating in more depth. There is a lot of price growth and potentially limited competition at this point. That said, I would also look into Southwest Charlotte (28217) for small business opportunities and reasonable lease rates.\n",
    "\n",
    "References\n",
    "(1) https://www.ncdot.gov/about-us/how-we-operate/finance-budget/nc-first/Documents/2019-07-12-cline-presentation.pdf\n",
    "(2) https://restaurant.org/Downloads/PDFs/State-Statistics/northcarolina.pdf\n",
    "(3) https://www.researchgate.net/publication/267695784_Only_the_Bad_Die_Young_Restaurant_Mortality_in_the_Western_US\n",
    "\n",
    "Introduction where you discuss the business problem and who would be interested in this project.\n",
    "Data where you describe the data that will be used to solve the problem and the source of the data.\n",
    "Methodology section which represents the main component of the report where you discuss and describe any exploratory data analysis that you did, any inferential statistical testing that you performed, if any, and what machine learnings were used and why.\n",
    "Results section where you discuss the results.\n",
    "Discussion section where you discuss any observations you noted and any recommendations you can make based on the results.\n",
    "Conclusion section where you conclude the report."
   ]
  },
  {
   "cell_type": "code",
   "execution_count": null,
   "metadata": {},
   "outputs": [],
   "source": []
  }
 ],
 "metadata": {
  "kernelspec": {
   "display_name": "Python 3.6",
   "language": "python",
   "name": "python3"
  },
  "language_info": {
   "codemirror_mode": {
    "name": "ipython",
    "version": 3
   },
   "file_extension": ".py",
   "mimetype": "text/x-python",
   "name": "python",
   "nbconvert_exporter": "python",
   "pygments_lexer": "ipython3",
   "version": "3.6.9"
  }
 },
 "nbformat": 4,
 "nbformat_minor": 1
}
